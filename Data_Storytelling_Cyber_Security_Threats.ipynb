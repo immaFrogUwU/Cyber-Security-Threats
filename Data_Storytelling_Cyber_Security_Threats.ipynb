{
 "cells": [
  {
   "cell_type": "code",
   "execution_count": 1,
   "id": "e99502e8",
   "metadata": {},
   "outputs": [],
   "source": [
    "import pandas as pd\n",
    "import numpy as np\n",
    "import seaborn as sns\n",
    "import matplotlib.pyplot as plt"
   ]
  },
  {
   "cell_type": "code",
   "execution_count": 2,
   "id": "2b5476c3",
   "metadata": {},
   "outputs": [
    {
     "data": {
      "text/html": [
       "<div>\n",
       "<style scoped>\n",
       "    .dataframe tbody tr th:only-of-type {\n",
       "        vertical-align: middle;\n",
       "    }\n",
       "\n",
       "    .dataframe tbody tr th {\n",
       "        vertical-align: top;\n",
       "    }\n",
       "\n",
       "    .dataframe thead th {\n",
       "        text-align: right;\n",
       "    }\n",
       "</style>\n",
       "<table border=\"1\" class=\"dataframe\">\n",
       "  <thead>\n",
       "    <tr style=\"text-align: right;\">\n",
       "      <th></th>\n",
       "      <th>Country</th>\n",
       "      <th>Year</th>\n",
       "      <th>Attack Type</th>\n",
       "      <th>Target Industry</th>\n",
       "      <th>Financial Loss (in Million $)</th>\n",
       "      <th>Number of Affected Users</th>\n",
       "      <th>Attack Source</th>\n",
       "      <th>Security Vulnerability Type</th>\n",
       "      <th>Defense Mechanism Used</th>\n",
       "      <th>Incident Resolution Time (in Hours)</th>\n",
       "    </tr>\n",
       "  </thead>\n",
       "  <tbody>\n",
       "    <tr>\n",
       "      <th>0</th>\n",
       "      <td>China</td>\n",
       "      <td>2019</td>\n",
       "      <td>Phishing</td>\n",
       "      <td>Education</td>\n",
       "      <td>80.53</td>\n",
       "      <td>773169.0</td>\n",
       "      <td>Hacker Group</td>\n",
       "      <td>Unpatched Software</td>\n",
       "      <td>VPN</td>\n",
       "      <td>63.0</td>\n",
       "    </tr>\n",
       "    <tr>\n",
       "      <th>1</th>\n",
       "      <td>China</td>\n",
       "      <td>2019</td>\n",
       "      <td>Ransomware</td>\n",
       "      <td>Retail</td>\n",
       "      <td>NaN</td>\n",
       "      <td>295961.0</td>\n",
       "      <td>Hacker Group</td>\n",
       "      <td>Unpatched Software</td>\n",
       "      <td>Firewall</td>\n",
       "      <td>71.0</td>\n",
       "    </tr>\n",
       "    <tr>\n",
       "      <th>2</th>\n",
       "      <td>India</td>\n",
       "      <td>2017</td>\n",
       "      <td>Man-in-the-Middle</td>\n",
       "      <td>IT</td>\n",
       "      <td>38.65</td>\n",
       "      <td>605895.0</td>\n",
       "      <td>Hacker Group</td>\n",
       "      <td>Weak Passwords</td>\n",
       "      <td>VPN</td>\n",
       "      <td>20.0</td>\n",
       "    </tr>\n",
       "    <tr>\n",
       "      <th>3</th>\n",
       "      <td>UK</td>\n",
       "      <td>2024</td>\n",
       "      <td>Ransomware</td>\n",
       "      <td>Telecommunications</td>\n",
       "      <td>41.44</td>\n",
       "      <td>659320.0</td>\n",
       "      <td>Nation-state</td>\n",
       "      <td>Social Engineering</td>\n",
       "      <td>AI-based Detection</td>\n",
       "      <td>7.0</td>\n",
       "    </tr>\n",
       "    <tr>\n",
       "      <th>4</th>\n",
       "      <td>Germany</td>\n",
       "      <td>2018</td>\n",
       "      <td>Man-in-the-Middle</td>\n",
       "      <td>IT</td>\n",
       "      <td>74.41</td>\n",
       "      <td>810682.0</td>\n",
       "      <td>NaN</td>\n",
       "      <td>Social Engineering</td>\n",
       "      <td>VPN</td>\n",
       "      <td>68.0</td>\n",
       "    </tr>\n",
       "  </tbody>\n",
       "</table>\n",
       "</div>"
      ],
      "text/plain": [
       "   Country  Year        Attack Type     Target Industry  \\\n",
       "0    China  2019           Phishing           Education   \n",
       "1    China  2019         Ransomware              Retail   \n",
       "2    India  2017  Man-in-the-Middle                  IT   \n",
       "3       UK  2024         Ransomware  Telecommunications   \n",
       "4  Germany  2018  Man-in-the-Middle                  IT   \n",
       "\n",
       "   Financial Loss (in Million $)  Number of Affected Users Attack Source  \\\n",
       "0                          80.53                  773169.0  Hacker Group   \n",
       "1                            NaN                  295961.0  Hacker Group   \n",
       "2                          38.65                  605895.0  Hacker Group   \n",
       "3                          41.44                  659320.0  Nation-state   \n",
       "4                          74.41                  810682.0           NaN   \n",
       "\n",
       "  Security Vulnerability Type Defense Mechanism Used  \\\n",
       "0          Unpatched Software                    VPN   \n",
       "1          Unpatched Software               Firewall   \n",
       "2              Weak Passwords                    VPN   \n",
       "3          Social Engineering     AI-based Detection   \n",
       "4          Social Engineering                    VPN   \n",
       "\n",
       "   Incident Resolution Time (in Hours)  \n",
       "0                                 63.0  \n",
       "1                                 71.0  \n",
       "2                                 20.0  \n",
       "3                                  7.0  \n",
       "4                                 68.0  "
      ]
     },
     "execution_count": 2,
     "metadata": {},
     "output_type": "execute_result"
    }
   ],
   "source": [
    "cybersec = pd.read_excel(r\".\\Global_Cybersecurity_Threats.xlsx\")\n",
    "cybersec.head()"
   ]
  },
  {
   "cell_type": "code",
   "execution_count": 3,
   "id": "d8e058a5",
   "metadata": {},
   "outputs": [
    {
     "data": {
      "text/plain": [
       "Country                                 object\n",
       "Year                                     int64\n",
       "Attack Type                             object\n",
       "Target Industry                         object\n",
       "Financial Loss (in Million $)          float64\n",
       "Number of Affected Users               float64\n",
       "Attack Source                           object\n",
       "Security Vulnerability Type             object\n",
       "Defense Mechanism Used                  object\n",
       "Incident Resolution Time (in Hours)    float64\n",
       "dtype: object"
      ]
     },
     "execution_count": 3,
     "metadata": {},
     "output_type": "execute_result"
    }
   ],
   "source": [
    "cybersec.dtypes"
   ]
  },
  {
   "cell_type": "markdown",
   "id": "f25218dc",
   "metadata": {},
   "source": [
    "##### Check for NAs"
   ]
  },
  {
   "cell_type": "code",
   "execution_count": 4,
   "id": "894cd8b9",
   "metadata": {},
   "outputs": [
    {
     "name": "stdout",
     "output_type": "stream",
     "text": [
      "Country                                  0\n",
      "Year                                     0\n",
      "Attack Type                             98\n",
      "Target Industry                          0\n",
      "Financial Loss (in Million $)          129\n",
      "Number of Affected Users               102\n",
      "Attack Source                           79\n",
      "Security Vulnerability Type             77\n",
      "Defense Mechanism Used                   0\n",
      "Incident Resolution Time (in Hours)     76\n",
      "dtype: int64\n"
     ]
    }
   ],
   "source": [
    "missing = cybersec.isnull().sum()\n",
    "print(missing)"
   ]
  },
  {
   "cell_type": "markdown",
   "id": "470e95fd",
   "metadata": {},
   "source": [
    "##### Conduct the Little's MCAR test "
   ]
  },
  {
   "cell_type": "code",
   "execution_count": 5,
   "id": "1e31422f",
   "metadata": {},
   "outputs": [],
   "source": [
    "from pyampute.exploration.mcar_statistical_tests import MCARTest"
   ]
  },
  {
   "cell_type": "code",
   "execution_count": 6,
   "id": "624cbbf0",
   "metadata": {},
   "outputs": [],
   "source": [
    "#Select columns with missing values to test\n",
    "subset = cybersec[['Attack Type', 'Financial Loss (in Million $)','Number of Affected Users','Security Vulnerability Type','Attack Source','Incident Resolution Time (in Hours)']]\n",
    "# Convert categorical variables to numerical codes\n",
    "subset_encoded = subset.apply(lambda col: col.astype('category').cat.codes if col.dtypes == 'object' else col)"
   ]
  },
  {
   "cell_type": "code",
   "execution_count": 7,
   "id": "cd3151ec",
   "metadata": {},
   "outputs": [
    {
     "name": "stdout",
     "output_type": "stream",
     "text": [
      "0.8203963075682454\n"
     ]
    }
   ],
   "source": [
    "mt = MCARTest(method=\"little\")\n",
    "print(mt.little_mcar_test(subset_encoded))"
   ]
  },
  {
   "cell_type": "markdown",
   "id": "a02b8628",
   "metadata": {},
   "source": [
    "##### The p-value of the test is 0.82, so we can accept the null hypothesis. Which indicates that the missing pattern of the data is Missing Completely At Random. "
   ]
  },
  {
   "cell_type": "markdown",
   "id": "b809f373",
   "metadata": {},
   "source": [
    "##### Because the missingness is unrelated to the data, we can simply drop all the rows with NA values."
   ]
  },
  {
   "cell_type": "code",
   "execution_count": 8,
   "id": "1f7d0f2f",
   "metadata": {},
   "outputs": [
    {
     "data": {
      "text/plain": [
       "Country                                0\n",
       "Year                                   0\n",
       "Attack Type                            0\n",
       "Target Industry                        0\n",
       "Financial Loss (in Million $)          0\n",
       "Number of Affected Users               0\n",
       "Attack Source                          0\n",
       "Security Vulnerability Type            0\n",
       "Defense Mechanism Used                 0\n",
       "Incident Resolution Time (in Hours)    0\n",
       "dtype: int64"
      ]
     },
     "execution_count": 8,
     "metadata": {},
     "output_type": "execute_result"
    }
   ],
   "source": [
    "cybersec_cleaned = cybersec.dropna()\n",
    "cybersec_cleaned.isnull().sum()"
   ]
  }
 ],
 "metadata": {
  "kernelspec": {
   "display_name": "Python 3",
   "language": "python",
   "name": "python3"
  },
  "language_info": {
   "codemirror_mode": {
    "name": "ipython",
    "version": 3
   },
   "file_extension": ".py",
   "mimetype": "text/x-python",
   "name": "python",
   "nbconvert_exporter": "python",
   "pygments_lexer": "ipython3",
   "version": "3.10.6"
  }
 },
 "nbformat": 4,
 "nbformat_minor": 5
}
