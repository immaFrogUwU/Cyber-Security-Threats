{
 "cells": [
  {
   "cell_type": "code",
   "execution_count": 2,
   "id": "e99502e8",
   "metadata": {},
   "outputs": [],
   "source": [
    "import pandas as pd\n",
    "import numpy as np\n",
    "import seaborn as sns\n",
    "import matplotlib.pyplot as plt\n",
    "import plotly.express as px\n",
    "import plotly.graph_objects as go"
   ]
  },
  {
   "cell_type": "code",
   "execution_count": 3,
   "id": "2b5476c3",
   "metadata": {},
   "outputs": [
    {
     "data": {
      "text/html": [
       "<div>\n",
       "<style scoped>\n",
       "    .dataframe tbody tr th:only-of-type {\n",
       "        vertical-align: middle;\n",
       "    }\n",
       "\n",
       "    .dataframe tbody tr th {\n",
       "        vertical-align: top;\n",
       "    }\n",
       "\n",
       "    .dataframe thead th {\n",
       "        text-align: right;\n",
       "    }\n",
       "</style>\n",
       "<table border=\"1\" class=\"dataframe\">\n",
       "  <thead>\n",
       "    <tr style=\"text-align: right;\">\n",
       "      <th></th>\n",
       "      <th>Country</th>\n",
       "      <th>Year</th>\n",
       "      <th>Attack Type</th>\n",
       "      <th>Target Industry</th>\n",
       "      <th>Financial Loss (in Million $)</th>\n",
       "      <th>Number of Affected Users</th>\n",
       "      <th>Attack Source</th>\n",
       "      <th>Security Vulnerability Type</th>\n",
       "      <th>Defense Mechanism Used</th>\n",
       "      <th>Incident Resolution Time (in Hours)</th>\n",
       "    </tr>\n",
       "  </thead>\n",
       "  <tbody>\n",
       "    <tr>\n",
       "      <th>0</th>\n",
       "      <td>China</td>\n",
       "      <td>2019</td>\n",
       "      <td>Phishing</td>\n",
       "      <td>Education</td>\n",
       "      <td>80.53</td>\n",
       "      <td>773169.0</td>\n",
       "      <td>Hacker Group</td>\n",
       "      <td>Unpatched Software</td>\n",
       "      <td>VPN</td>\n",
       "      <td>63.0</td>\n",
       "    </tr>\n",
       "    <tr>\n",
       "      <th>1</th>\n",
       "      <td>China</td>\n",
       "      <td>2019</td>\n",
       "      <td>Ransomware</td>\n",
       "      <td>Retail</td>\n",
       "      <td>NaN</td>\n",
       "      <td>295961.0</td>\n",
       "      <td>Hacker Group</td>\n",
       "      <td>Unpatched Software</td>\n",
       "      <td>Firewall</td>\n",
       "      <td>71.0</td>\n",
       "    </tr>\n",
       "    <tr>\n",
       "      <th>2</th>\n",
       "      <td>India</td>\n",
       "      <td>2017</td>\n",
       "      <td>Man-in-the-Middle</td>\n",
       "      <td>IT</td>\n",
       "      <td>38.65</td>\n",
       "      <td>605895.0</td>\n",
       "      <td>Hacker Group</td>\n",
       "      <td>Weak Passwords</td>\n",
       "      <td>VPN</td>\n",
       "      <td>20.0</td>\n",
       "    </tr>\n",
       "    <tr>\n",
       "      <th>3</th>\n",
       "      <td>UK</td>\n",
       "      <td>2024</td>\n",
       "      <td>Ransomware</td>\n",
       "      <td>Telecommunications</td>\n",
       "      <td>41.44</td>\n",
       "      <td>659320.0</td>\n",
       "      <td>Nation-state</td>\n",
       "      <td>Social Engineering</td>\n",
       "      <td>AI-based Detection</td>\n",
       "      <td>7.0</td>\n",
       "    </tr>\n",
       "    <tr>\n",
       "      <th>4</th>\n",
       "      <td>Germany</td>\n",
       "      <td>2018</td>\n",
       "      <td>Man-in-the-Middle</td>\n",
       "      <td>IT</td>\n",
       "      <td>74.41</td>\n",
       "      <td>810682.0</td>\n",
       "      <td>NaN</td>\n",
       "      <td>Social Engineering</td>\n",
       "      <td>VPN</td>\n",
       "      <td>68.0</td>\n",
       "    </tr>\n",
       "  </tbody>\n",
       "</table>\n",
       "</div>"
      ],
      "text/plain": [
       "   Country  Year        Attack Type     Target Industry  \\\n",
       "0    China  2019           Phishing           Education   \n",
       "1    China  2019         Ransomware              Retail   \n",
       "2    India  2017  Man-in-the-Middle                  IT   \n",
       "3       UK  2024         Ransomware  Telecommunications   \n",
       "4  Germany  2018  Man-in-the-Middle                  IT   \n",
       "\n",
       "   Financial Loss (in Million $)  Number of Affected Users Attack Source  \\\n",
       "0                          80.53                  773169.0  Hacker Group   \n",
       "1                            NaN                  295961.0  Hacker Group   \n",
       "2                          38.65                  605895.0  Hacker Group   \n",
       "3                          41.44                  659320.0  Nation-state   \n",
       "4                          74.41                  810682.0           NaN   \n",
       "\n",
       "  Security Vulnerability Type Defense Mechanism Used  \\\n",
       "0          Unpatched Software                    VPN   \n",
       "1          Unpatched Software               Firewall   \n",
       "2              Weak Passwords                    VPN   \n",
       "3          Social Engineering     AI-based Detection   \n",
       "4          Social Engineering                    VPN   \n",
       "\n",
       "   Incident Resolution Time (in Hours)  \n",
       "0                                 63.0  \n",
       "1                                 71.0  \n",
       "2                                 20.0  \n",
       "3                                  7.0  \n",
       "4                                 68.0  "
      ]
     },
     "execution_count": 3,
     "metadata": {},
     "output_type": "execute_result"
    }
   ],
   "source": [
    "cybersec = pd.read_excel(r\".\\Global_Cybersecurity_Threats.xlsx\")\n",
    "cybersec.head()"
   ]
  },
  {
   "cell_type": "code",
   "execution_count": 4,
   "id": "d8e058a5",
   "metadata": {},
   "outputs": [
    {
     "data": {
      "text/plain": [
       "Country                                 object\n",
       "Year                                     int64\n",
       "Attack Type                             object\n",
       "Target Industry                         object\n",
       "Financial Loss (in Million $)          float64\n",
       "Number of Affected Users               float64\n",
       "Attack Source                           object\n",
       "Security Vulnerability Type             object\n",
       "Defense Mechanism Used                  object\n",
       "Incident Resolution Time (in Hours)    float64\n",
       "dtype: object"
      ]
     },
     "execution_count": 4,
     "metadata": {},
     "output_type": "execute_result"
    }
   ],
   "source": [
    "cybersec.dtypes"
   ]
  },
  {
   "cell_type": "markdown",
   "id": "ab33dd75",
   "metadata": {},
   "source": [
    "##### Correct data type"
   ]
  },
  {
   "cell_type": "code",
   "execution_count": 5,
   "id": "c5abeb3c",
   "metadata": {},
   "outputs": [
    {
     "name": "stdout",
     "output_type": "stream",
     "text": [
      "Country                                  object\n",
      "Year                                      int32\n",
      "Attack Type                            category\n",
      "Target Industry                        category\n",
      "Financial Loss (in Million $)           float64\n",
      "Number of Affected Users                float64\n",
      "Attack Source                          category\n",
      "Security Vulnerability Type            category\n",
      "Defense Mechanism Used                 category\n",
      "Incident Resolution Time (in Hours)     float64\n",
      "dtype: object\n"
     ]
    }
   ],
   "source": [
    "cybersec['Year'] = pd.to_datetime(cybersec['Year'], errors='coerce').dt.year\n",
    "categorical_cols = [\n",
    "    'Attack Type',\n",
    "    'Target Industry',\n",
    "    'Attack Source',\n",
    "    'Security Vulnerability Type',\n",
    "    'Defense Mechanism Used'\n",
    "]\n",
    "for col in categorical_cols:\n",
    "    cybersec[col] = cybersec[col].astype('category')\n",
    "\n",
    "print(cybersec.dtypes)"
   ]
  },
  {
   "cell_type": "markdown",
   "id": "f25218dc",
   "metadata": {},
   "source": [
    "##### Check for NAs"
   ]
  },
  {
   "cell_type": "code",
   "execution_count": 6,
   "id": "894cd8b9",
   "metadata": {},
   "outputs": [
    {
     "name": "stdout",
     "output_type": "stream",
     "text": [
      "Country                                  0\n",
      "Year                                     0\n",
      "Attack Type                             98\n",
      "Target Industry                          0\n",
      "Financial Loss (in Million $)          129\n",
      "Number of Affected Users               102\n",
      "Attack Source                           79\n",
      "Security Vulnerability Type             77\n",
      "Defense Mechanism Used                   0\n",
      "Incident Resolution Time (in Hours)     76\n",
      "dtype: int64\n"
     ]
    }
   ],
   "source": [
    "missing = cybersec.isnull().sum()\n",
    "print(missing)"
   ]
  },
  {
   "cell_type": "markdown",
   "id": "470e95fd",
   "metadata": {},
   "source": [
    "##### Conduct the Little's MCAR test "
   ]
  },
  {
   "cell_type": "code",
   "execution_count": 7,
   "id": "1e31422f",
   "metadata": {},
   "outputs": [],
   "source": [
    "from pyampute.exploration.mcar_statistical_tests import MCARTest"
   ]
  },
  {
   "cell_type": "code",
   "execution_count": 8,
   "id": "624cbbf0",
   "metadata": {},
   "outputs": [],
   "source": [
    "#Select columns with missing values to test\n",
    "subset = cybersec[['Attack Type',\n",
    "                   'Financial Loss (in Million $)',\n",
    "                   'Number of Affected Users',\n",
    "                   'Security Vulnerability Type',\n",
    "                   'Attack Source',\n",
    "                   'Incident Resolution Time (in Hours)']]\n",
    "# Convert categorical variables to numerical codes\n",
    "subset_encoded = subset.apply(lambda col: col.astype('category').cat.codes if col.dtypes == 'category' else col)"
   ]
  },
  {
   "cell_type": "code",
   "execution_count": 9,
   "id": "cd3151ec",
   "metadata": {},
   "outputs": [
    {
     "name": "stdout",
     "output_type": "stream",
     "text": [
      "0.8203963075682454\n"
     ]
    }
   ],
   "source": [
    "mt = MCARTest(method=\"little\")\n",
    "print(mt.little_mcar_test(subset_encoded))"
   ]
  },
  {
   "cell_type": "markdown",
   "id": "a02b8628",
   "metadata": {},
   "source": [
    "##### The p-value of the test is 0.82, so we can accept the null hypothesis. Which indicates that the missing pattern of the data is Missing Completely At Random. "
   ]
  },
  {
   "cell_type": "markdown",
   "id": "b809f373",
   "metadata": {},
   "source": [
    "##### Because the missingness is unrelated to the data, we can simply drop all the rows with NA values."
   ]
  },
  {
   "cell_type": "code",
   "execution_count": 10,
   "id": "1f7d0f2f",
   "metadata": {},
   "outputs": [
    {
     "data": {
      "text/plain": [
       "Country                                0\n",
       "Year                                   0\n",
       "Attack Type                            0\n",
       "Target Industry                        0\n",
       "Financial Loss (in Million $)          0\n",
       "Number of Affected Users               0\n",
       "Attack Source                          0\n",
       "Security Vulnerability Type            0\n",
       "Defense Mechanism Used                 0\n",
       "Incident Resolution Time (in Hours)    0\n",
       "dtype: int64"
      ]
     },
     "execution_count": 10,
     "metadata": {},
     "output_type": "execute_result"
    }
   ],
   "source": [
    "cybersec_cleaned = cybersec.dropna()\n",
    "cybersec_cleaned.isnull().sum()"
   ]
  },
  {
   "cell_type": "markdown",
   "id": "69809946",
   "metadata": {},
   "source": [
    "##### Check for outliers"
   ]
  },
  {
   "cell_type": "code",
   "execution_count": 9,
   "id": "1e219ee2",
   "metadata": {},
   "outputs": [
    {
     "data": {
      "image/png": "[encoded data removed]",
      "text/plain": [
       "<Figure size 1200x600 with 1 Axes>"
      ]
     },
     "metadata": {},
     "output_type": "display_data"
    },
    {
     "data": {
      "image/png": "[encoded data removed]",
      "text/plain": [
       "<Figure size 640x480 with 1 Axes>"
      ]
     },
     "metadata": {},
     "output_type": "display_data"
    },
    {
     "data": {
      "image/png": "[encoded data removed]",
      "text/plain": [
       "<Figure size 640x480 with 1 Axes>"
      ]
     },
     "metadata": {},
     "output_type": "display_data"
    }
   ],
   "source": [
    "numeric_features = ['Financial Loss (in Million $)', 'Number of Affected Users', 'Incident Resolution Time (in Hours)']\n",
    "plt.figure(figsize=(12, 6))\n",
    "for feature in numeric_features:\n",
    "    plt.boxplot(cybersec_cleaned[feature])\n",
    "    plt.title(f'Boxplot of {feature}')\n",
    "    plt.show()\n"
   ]
  },
  {
   "cell_type": "markdown",
   "id": "6387a1ab",
   "metadata": {},
   "source": [
    "TIME SERIES ANALYSIS"
   ]
  },
  {
   "cell_type": "markdown",
   "id": "9a1c20db",
   "metadata": {},
   "source": [
    "Cybersecurity Threats Over the Years"
   ]
  },
  {
   "cell_type": "code",
   "execution_count": 4,
   "id": "4da5d00b",
   "metadata": {},
   "outputs": [
    {
     "data": {
      "application/vnd.plotly.v1+json": {
       "config": {
        "plotlyServerURL": "https://plot.ly"
       },
       "data": [
        {
         "hovertemplate": "Year=%{x}<br>Number of Incidents=%{y}<extra></extra>",
         "legendgroup": "",
         "line": {
          "color": "#636efa",
          "dash": "solid"
         },
         "marker": {
          "symbol": "circle"
         },
         "mode": "lines+markers",
         "name": "",
         "orientation": "v",
         "showlegend": false,
         "type": "scatter",
         "x": {
          "bdata": "3wfgB+EH4gfjB+QH5QfmB+cH6Ac=",
          "dtype": "i2"
         },
         "xaxis": "x",
         "y": {
          "bdata": "FQEdAT8BNgEHATsBKwE+ATsBKwE=",
          "dtype": "i2"
         },
         "yaxis": "y"
        },
        {
         "line": {
          "color": "orange",
          "dash": "dash"
         },
         "mode": "lines",
         "name": "Trend Line",
         "type": "scatter",
         "x": {
          "bdata": "3wfgB+EH4gfjB+QH5QfmB+cH6Ac=",
          "dtype": "i2"
         },
         "y": {
          "bdata": "IKx9w9oHckBgaQyYxjByQLAmm2yyWXJA8OMpQZ6CckBAobgViqtyQJBeR+p11HJA0BvWvmH9ckAg2WSTTSZzQGCW82c5T3NAsFOCPCV4c0A=",
          "dtype": "f8"
         }
        },
        {
         "marker": {
          "color": "red",
          "size": 10
         },
         "mode": "markers+text",
         "name": "Peak",
         "text": [
          "Peak: 319"
         ],
         "textposition": "top center",
         "type": "scatter",
         "x": [
          2017
         ],
         "y": [
          319
         ]
        }
       ],
       "layout": {
        "height": 500,
        "legend": {
         "tracegroupgap": 0
        },
        "template": {
         "data": {
          "bar": [
           {
            "error_x": {
             "color": "#2a3f5f"
            },
            "error_y": {
             "color": "#2a3f5f"
            },
            "marker": {
             "line": {
              "color": "#E5ECF6",
              "width": 0.5
             },
             "pattern": {
              "fillmode": "overlay",
              "size": 10,
              "solidity": 0.2
             }
            },
            "type": "bar"
           }
          ],
          "barpolar": [
           {
            "marker": {
             "line": {
              "color": "#E5ECF6",
              "width": 0.5
             },
             "pattern": {
              "fillmode": "overlay",
              "size": 10,
              "solidity": 0.2
             }
            },
            "type": "barpolar"
           }
          ],
          "carpet": [
           {
            "aaxis": {
             "endlinecolor": "#2a3f5f",
             "gridcolor": "white",
             "linecolor": "white",
             "minorgridcolor": "white",
             "startlinecolor": "#2a3f5f"
            },
            "baxis": {
             "endlinecolor": "#2a3f5f",
             "gridcolor": "white",
             "linecolor": "white",
             "minorgridcolor": "white",
             "startlinecolor": "#2a3f5f"
            },
            "type": "carpet"
           }
          ],
          "choropleth": [
           {
            "colorbar": {
             "outlinewidth": 0,
             "ticks": ""
            },
            "type": "choropleth"
           }
          ],
          "contour": [
           {
            "colorbar": {
             "outlinewidth": 0,
             "ticks": ""
            },
            "colorscale": [
             [
              0,
              "#0d0887"
             ],
             [
              0.1111111111111111,
              "#46039f"
             ],
             [
              0.2222222222222222,
              "#7201a8"
             ],
             [
              0.3333333333333333,
              "#9c179e"
             ],
             [
              0.4444444444444444,
              "#bd3786"
             ],
             [
              0.5555555555555556,
              "#d8576b"
             ],
             [
              0.6666666666666666,
              "#ed7953"
             ],
             [
              0.7777777777777778,
              "#fb9f3a"
             ],
             [
              0.8888888888888888,
              "#fdca26"
             ],
             [
              1,
              "#f0f921"
             ]
            ],
            "type": "contour"
           }
          ],
          "contourcarpet": [
           {
            "colorbar": {
             "outlinewidth": 0,
             "ticks": ""
            },
            "type": "contourcarpet"
           }
          ],
          "heatmap": [
           {
            "colorbar": {
             "outlinewidth": 0,
             "ticks": ""
            },
            "colorscale": [
             [
              0,
              "#0d0887"
             ],
             [
              0.1111111111111111,
              "#46039f"
             ],
             [
              0.2222222222222222,
              "#7201a8"
             ],
             [
              0.3333333333333333,
              "#9c179e"
             ],
             [
              0.4444444444444444,
              "#bd3786"
             ],
             [
              0.5555555555555556,
              "#d8576b"
             ],
             [
              0.6666666666666666,
              "#ed7953"
             ],
             [
              0.7777777777777778,
              "#fb9f3a"
             ],
             [
              0.8888888888888888,
              "#fdca26"
             ],
             [
              1,
              "#f0f921"
             ]
            ],
            "type": "heatmap"
           }
          ],
          "histogram": [
           {
            "marker": {
             "pattern": {
              "fillmode": "overlay",
              "size": 10,
              "solidity": 0.2
             }
            },
            "type": "histogram"
           }
          ],
          "histogram2d": [
           {
            "colorbar": {
             "outlinewidth": 0,
             "ticks": ""
            },
            "colorscale": [
             [
              0,
              "#0d0887"
             ],
             [
              0.1111111111111111,
              "#46039f"
             ],
             [
              0.2222222222222222,
              "#7201a8"
             ],
             [
              0.3333333333333333,
              "#9c179e"
             ],
             [
              0.4444444444444444,
              "#bd3786"
             ],
             [
              0.5555555555555556,
              "#d8576b"
             ],
             [
              0.6666666666666666,
              "#ed7953"
             ],
             [
              0.7777777777777778,
              "#fb9f3a"
             ],
             [
              0.8888888888888888,
              "#fdca26"
             ],
             [
              1,
              "#f0f921"
             ]
            ],
            "type": "histogram2d"
           }
          ],
          "histogram2dcontour": [
           {
            "colorbar": {
             "outlinewidth": 0,
             "ticks": ""
            },
            "colorscale": [
             [
              0,
              "#0d0887"
             ],
             [
              0.1111111111111111,
              "#46039f"
             ],
             [
              0.2222222222222222,
              "#7201a8"
             ],
             [
              0.3333333333333333,
              "#9c179e"
             ],
             [
              0.4444444444444444,
              "#bd3786"
             ],
             [
              0.5555555555555556,
              "#d8576b"
             ],
             [
              0.6666666666666666,
              "#ed7953"
             ],
             [
              0.7777777777777778,
              "#fb9f3a"
             ],
             [
              0.8888888888888888,
              "#fdca26"
             ],
             [
              1,
              "#f0f921"
             ]
            ],
            "type": "histogram2dcontour"
           }
          ],
          "mesh3d": [
           {
            "colorbar": {
             "outlinewidth": 0,
             "ticks": ""
            },
            "type": "mesh3d"
           }
          ],
          "parcoords": [
           {
            "line": {
             "colorbar": {
              "outlinewidth": 0,
              "ticks": ""
             }
            },
            "type": "parcoords"
           }
          ],
          "pie": [
           {
            "automargin": true,
            "type": "pie"
           }
          ],
          "scatter": [
           {
            "fillpattern": {
             "fillmode": "overlay",
             "size": 10,
             "solidity": 0.2
            },
            "type": "scatter"
           }
          ],
          "scatter3d": [
           {
            "line": {
             "colorbar": {
              "outlinewidth": 0,
              "ticks": ""
             }
            },
            "marker": {
             "colorbar": {
              "outlinewidth": 0,
              "ticks": ""
             }
            },
            "type": "scatter3d"
           }
          ],
          "scattercarpet": [
           {
            "marker": {
             "colorbar": {
              "outlinewidth": 0,
              "ticks": ""
             }
            },
            "type": "scattercarpet"
           }
          ],
          "scattergeo": [
           {
            "marker": {
             "colorbar": {
              "outlinewidth": 0,
              "ticks": ""
             }
            },
            "type": "scattergeo"
           }
          ],
          "scattergl": [
           {
            "marker": {
             "colorbar": {
              "outlinewidth": 0,
              "ticks": ""
             }
            },
            "type": "scattergl"
           }
          ],
          "scattermap": [
           {
            "marker": {
             "colorbar": {
              "outlinewidth": 0,
              "ticks": ""
             }
            },
            "type": "scattermap"
           }
          ],
          "scattermapbox": [
           {
            "marker": {
             "colorbar": {
              "outlinewidth": 0,
              "ticks": ""
             }
            },
            "type": "scattermapbox"
           }
          ],
          "scatterpolar": [
           {
            "marker": {
             "colorbar": {
              "outlinewidth": 0,
              "ticks": ""
             }
            },
            "type": "scatterpolar"
           }
          ],
          "scatterpolargl": [
           {
            "marker": {
             "colorbar": {
              "outlinewidth": 0,
              "ticks": ""
             }
            },
            "type": "scatterpolargl"
           }
          ],
          "scatterternary": [
           {
            "marker": {
             "colorbar": {
              "outlinewidth": 0,
              "ticks": ""
             }
            },
            "type": "scatterternary"
           }
          ],
          "surface": [
           {
            "colorbar": {
             "outlinewidth": 0,
             "ticks": ""
            },
            "colorscale": [
             [
              0,
              "#0d0887"
             ],
             [
              0.1111111111111111,
              "#46039f"
             ],
             [
              0.2222222222222222,
              "#7201a8"
             ],
             [
              0.3333333333333333,
              "#9c179e"
             ],
             [
              0.4444444444444444,
              "#bd3786"
             ],
             [
              0.5555555555555556,
              "#d8576b"
             ],
             [
              0.6666666666666666,
              "#ed7953"
             ],
             [
              0.7777777777777778,
              "#fb9f3a"
             ],
             [
              0.8888888888888888,
              "#fdca26"
             ],
             [
              1,
              "#f0f921"
             ]
            ],
            "type": "surface"
           }
          ],
          "table": [
           {
            "cells": {
             "fill": {
              "color": "#EBF0F8"
             },
             "line": {
              "color": "white"
             }
            },
            "header": {
             "fill": {
              "color": "#C8D4E3"
             },
             "line": {
              "color": "white"
             }
            },
            "type": "table"
           }
          ]
         },
         "layout": {
          "annotationdefaults": {
           "arrowcolor": "#2a3f5f",
           "arrowhead": 0,
           "arrowwidth": 1
          },
          "autotypenumbers": "strict",
          "coloraxis": {
           "colorbar": {
            "outlinewidth": 0,
            "ticks": ""
           }
          },
          "colorscale": {
           "diverging": [
            [
             0,
             "#8e0152"
            ],
            [
             0.1,
             "#c51b7d"
            ],
            [
             0.2,
             "#de77ae"
            ],
            [
             0.3,
             "#f1b6da"
            ],
            [
             0.4,
             "#fde0ef"
            ],
            [
             0.5,
             "#f7f7f7"
            ],
            [
             0.6,
             "#e6f5d0"
            ],
            [
             0.7,
             "#b8e186"
            ],
            [
             0.8,
             "#7fbc41"
            ],
            [
             0.9,
             "#4d9221"
            ],
            [
             1,
             "#276419"
            ]
           ],
           "sequential": [
            [
             0,
             "#0d0887"
            ],
            [
             0.1111111111111111,
             "#46039f"
            ],
            [
             0.2222222222222222,
             "#7201a8"
            ],
            [
             0.3333333333333333,
             "#9c179e"
            ],
            [
             0.4444444444444444,
             "#bd3786"
            ],
            [
             0.5555555555555556,
             "#d8576b"
            ],
            [
             0.6666666666666666,
             "#ed7953"
            ],
            [
             0.7777777777777778,
             "#fb9f3a"
            ],
            [
             0.8888888888888888,
             "#fdca26"
            ],
            [
             1,
             "#f0f921"
            ]
           ],
           "sequentialminus": [
            [
             0,
             "#0d0887"
            ],
            [
             0.1111111111111111,
             "#46039f"
            ],
            [
             0.2222222222222222,
             "#7201a8"
            ],
            [
             0.3333333333333333,
             "#9c179e"
            ],
            [
             0.4444444444444444,
             "#bd3786"
            ],
            [
             0.5555555555555556,
             "#d8576b"
            ],
            [
             0.6666666666666666,
             "#ed7953"
            ],
            [
             0.7777777777777778,
             "#fb9f3a"
            ],
            [
             0.8888888888888888,
             "#fdca26"
            ],
            [
             1,
             "#f0f921"
            ]
           ]
          },
          "colorway": [
           "#636efa",
           "#EF553B",
           "#00cc96",
           "#ab63fa",
           "#FFA15A",
           "#19d3f3",
           "#FF6692",
           "#B6E880",
           "#FF97FF",
           "#FECB52"
          ],
          "font": {
           "color": "#2a3f5f"
          },
          "geo": {
           "bgcolor": "white",
           "lakecolor": "white",
           "landcolor": "#E5ECF6",
           "showlakes": true,
           "showland": true,
           "subunitcolor": "white"
          },
          "hoverlabel": {
           "align": "left"
          },
          "hovermode": "closest",
          "mapbox": {
           "style": "light"
          },
          "paper_bgcolor": "white",
          "plot_bgcolor": "#E5ECF6",
          "polar": {
           "angularaxis": {
            "gridcolor": "white",
            "linecolor": "white",
            "ticks": ""
           },
           "bgcolor": "#E5ECF6",
           "radialaxis": {
            "gridcolor": "white",
            "linecolor": "white",
            "ticks": ""
           }
          },
          "scene": {
           "xaxis": {
            "backgroundcolor": "#E5ECF6",
            "gridcolor": "white",
            "gridwidth": 2,
            "linecolor": "white",
            "showbackground": true,
            "ticks": "",
            "zerolinecolor": "white"
           },
           "yaxis": {
            "backgroundcolor": "#E5ECF6",
            "gridcolor": "white",
            "gridwidth": 2,
            "linecolor": "white",
            "showbackground": true,
            "ticks": "",
            "zerolinecolor": "white"
           },
           "zaxis": {
            "backgroundcolor": "#E5ECF6",
            "gridcolor": "white",
            "gridwidth": 2,
            "linecolor": "white",
            "showbackground": true,
            "ticks": "",
            "zerolinecolor": "white"
           }
          },
          "shapedefaults": {
           "line": {
            "color": "#2a3f5f"
           }
          },
          "ternary": {
           "aaxis": {
            "gridcolor": "white",
            "linecolor": "white",
            "ticks": ""
           },
           "baxis": {
            "gridcolor": "white",
            "linecolor": "white",
            "ticks": ""
           },
           "bgcolor": "#E5ECF6",
           "caxis": {
            "gridcolor": "white",
            "linecolor": "white",
            "ticks": ""
           }
          },
          "title": {
           "x": 0.05
          },
          "xaxis": {
           "automargin": true,
           "gridcolor": "white",
           "linecolor": "white",
           "ticks": "",
           "title": {
            "standoff": 15
           },
           "zerolinecolor": "white",
           "zerolinewidth": 2
          },
          "yaxis": {
           "automargin": true,
           "gridcolor": "white",
           "linecolor": "white",
           "ticks": "",
           "title": {
            "standoff": 15
           },
           "zerolinecolor": "white",
           "zerolinewidth": 2
          }
         }
        },
        "title": {
         "text": "Number of Incidents Over Time",
         "x": 0.5
        },
        "width": 800,
        "xaxis": {
         "anchor": "y",
         "domain": [
          0,
          1
         ],
         "tickmode": "linear",
         "title": {
          "text": "Year"
         }
        },
        "yaxis": {
         "anchor": "x",
         "domain": [
          0,
          1
         ],
         "title": {
          "text": "Number of Incidents"
         }
        }
       }
      }
     },
     "metadata": {},
     "output_type": "display_data"
    }
   ],
   "source": [
    "incident_trends = cybersec.groupby('Year', observed=False).size().reset_index(name='Incident Count')\n",
    "x = incident_trends['Year']\n",
    "y = incident_trends['Incident Count']\n",
    "coef = np.polyfit(x, y, 1)\n",
    "trend = np.poly1d(coef)\n",
    "incident_trends['Trend'] = trend(x)\n",
    "\n",
    "# Find peak point\n",
    "max_idx = incident_trends['Incident Count'].idxmax()\n",
    "max_year = incident_trends.loc[max_idx, 'Year']\n",
    "max_value = incident_trends.loc[max_idx, 'Incident Count']\n",
    "\n",
    "fig = px.line(incident_trends, x='Year', y='Incident Count',\n",
    "              title='Number of Incidents Over Time',\n",
    "              labels={'Year': 'Year', 'Incident Count': 'Number of Incidents'},\n",
    "              markers=True)\n",
    "\n",
    "# Insert Tendency line\n",
    "fig.add_trace(go.Scatter(\n",
    "    x=incident_trends['Year'],\n",
    "    y=incident_trends['Trend'],\n",
    "    mode='lines',\n",
    "    name='Trend Line',\n",
    "    line=dict(color='orange', dash='dash')\n",
    "))\n",
    "\n",
    "# Insert Peak\n",
    "fig.add_trace(go.Scatter(\n",
    "    x=[max_year],\n",
    "    y=[max_value],\n",
    "    mode='markers+text',\n",
    "    name='Peak',\n",
    "    marker=dict(color='red', size=10),\n",
    "    text=[f\"Peak: {max_value}\"],\n",
    "    textposition='top center'\n",
    "))\n",
    "fig.update_layout(title_x=0.5, xaxis=dict(tickmode='linear'), width=800, height=500)\n",
    "fig.show()\n"
   ]
  },
  {
   "cell_type": "code",
   "execution_count": 11,
   "id": "338ec19b",
   "metadata": {},
   "outputs": [
    {
     "name": "stderr",
     "output_type": "stream",
     "text": [
      "C:\\Users\\LAPTOP ACER\\AppData\\Local\\Temp\\ipykernel_22836\\2305609782.py:24: FutureWarning: \n",
      "\n",
      "Passing `palette` without assigning `hue` is deprecated and will be removed in v0.14.0. Assign the `y` variable to `hue` and set `legend=False` for the same effect.\n",
      "\n",
      "  sns.barplot(data=top10_affected, x='Total_Financial_Loss', y='Country', palette='Reds_r')\n"
     ]
    },
    {
     "data": {
      "image/png": "[encoded data removed]",
      "text/plain": [
       "<Figure size 1200x600 with 1 Axes>"
      ]
     },
     "metadata": {},
     "output_type": "display_data"
    },
    {
     "name": "stderr",
     "output_type": "stream",
     "text": [
      "C:\\Users\\LAPTOP ACER\\AppData\\Local\\Temp\\ipykernel_22836\\2305609782.py:34: FutureWarning: \n",
      "\n",
      "Passing `palette` without assigning `hue` is deprecated and will be removed in v0.14.0. Assign the `y` variable to `hue` and set `legend=False` for the same effect.\n",
      "\n",
      "  sns.barplot(data=top10_least_affected, x='Total_Financial_Loss', y='Country', palette='Greens')\n"
     ]
    },
    {
     "data": {
      "image/png": "[encoded data removed]",
      "text/plain": [
       "<Figure size 1200x600 with 1 Axes>"
      ]
     },
     "metadata": {},
     "output_type": "display_data"
    }
   ],
   "source": [
    "# Gộp dữ liệu theo quốc gia, tính tổng thiệt hại tài chính\n",
    "country_impact = cybersec.groupby('Country')['Financial Loss (in Million $)'].sum().reset_index()\n",
    "\n",
    "\n",
    "# Đổi tên cột cho dễ dùng\n",
    "country_impact.columns = ['Country', 'Total_Financial_Loss']\n",
    "\n",
    "\n",
    "# Sắp xếp giảm dần để lấy top 10 quốc gia bị ảnh hưởng nặng nhất\n",
    "top10_affected = country_impact.sort_values(by='Total_Financial_Loss', ascending=False).head(10)\n",
    "\n",
    "\n",
    "# Sắp xếp tăng dần để lấy top 10 quốc gia ít bị ảnh hưởng nhất (có thể lọc bỏ các giá trị = 0 nếu cần)\n",
    "top10_least_affected = country_impact[country_impact['Total_Financial_Loss'] > 0] \\\n",
    "                        .sort_values(by='Total_Financial_Loss', ascending=True).head(10)\n",
    "\n",
    "\n",
    "# Thiết lập style cho Seaborn\n",
    "sns.set(style=\"whitegrid\")\n",
    "\n",
    "\n",
    "# Vẽ biểu đồ Top 10 quốc gia bị ảnh hưởng nặng nhất\n",
    "plt.figure(figsize=(12, 6))\n",
    "sns.barplot(data=top10_affected, x='Total_Financial_Loss', y='Country', palette='Reds_r')\n",
    "plt.title('Top 10 Countries Most Heavily affected (By Financial Loss)', fontsize=14)\n",
    "plt.xlabel('Total Loss (million USD)', fontsize=12)\n",
    "plt.ylabel('Country', fontsize=12)\n",
    "plt.tight_layout()\n",
    "plt.show()\n",
    "\n",
    "\n",
    "# Vẽ biểu đồ Top 10 quốc gia ít bị ảnh hưởng nhất\n",
    "plt.figure(figsize=(12, 6))\n",
    "sns.barplot(data=top10_least_affected, x='Total_Financial_Loss', y='Country', palette='Greens')\n",
    "plt.title('Top 10 Countries Least Heavily affected (By Financial Loss)', fontsize=14)\n",
    "plt.xlabel('Total Loss (million USD)', fontsize=12)\n",
    "plt.ylabel('Country', fontsize=12)\n",
    "plt.tight_layout()\n",
    "plt.show()"
   ]
  },
  {
   "cell_type": "code",
   "execution_count": 12,
   "id": "76d08cdd",
   "metadata": {},
   "outputs": [
    {
     "name": "stderr",
     "output_type": "stream",
     "text": [
      "C:\\Users\\LAPTOP ACER\\AppData\\Local\\Temp\\ipykernel_22836\\1500681834.py:6: SettingWithCopyWarning: \n",
      "A value is trying to be set on a copy of a slice from a DataFrame.\n",
      "Try using .loc[row_indexer,col_indexer] = value instead\n",
      "\n",
      "See the caveats in the documentation: https://pandas.pydata.org/pandas-docs/stable/user_guide/indexing.html#returning-a-view-versus-a-copy\n",
      "  cybersec_cleaned['Development_Status'] = cybersec_cleaned['Country'].apply(lambda x: 'Developed' if x in developed_countries else 'Developing')\n",
      "C:\\Users\\LAPTOP ACER\\AppData\\Local\\Temp\\ipykernel_22836\\1500681834.py:15: FutureWarning: \n",
      "\n",
      "Passing `palette` without assigning `hue` is deprecated and will be removed in v0.14.0. Assign the `x` variable to `hue` and set `legend=False` for the same effect.\n",
      "\n",
      "  sns.barplot(data=impact_by_status, x='Development_Status', y='Financial Loss (in Million $)', palette='coolwarm')\n"
     ]
    },
    {
     "data": {
      "image/png": "[encoded data removed]",
      "text/plain": [
       "<Figure size 800x500 with 1 Axes>"
      ]
     },
     "metadata": {},
     "output_type": "display_data"
    }
   ],
   "source": [
    "# Tạo danh sách quốc gia phát triển\n",
    "developed_countries = ['UK', 'France', 'Japan']\n",
    "\n",
    "\n",
    "# Tạo cột mới: Developed / Developing\n",
    "cybersec_cleaned['Development_Status'] = cybersec_cleaned['Country'].apply(lambda x: 'Developed' if x in developed_countries else 'Developing')\n",
    "\n",
    "\n",
    "# Tính tổng thiệt hại theo nhóm quốc gia\n",
    "impact_by_status = cybersec_cleaned.groupby('Development_Status')['Financial Loss (in Million $)'].sum().reset_index()\n",
    "\n",
    "\n",
    "# Vẽ biểu đồ so sánh\n",
    "plt.figure(figsize=(8, 5))\n",
    "sns.barplot(data=impact_by_status, x='Development_Status', y='Financial Loss (in Million $)', palette='coolwarm')\n",
    "plt.title('Comparison of Financial Losses Between Developed and Developing Countries', fontsize=14)\n",
    "plt.xlabel('Country group')\n",
    "plt.ylabel('Total Loss (million USD)')\n",
    "plt.tight_layout()\n",
    "plt.show()"
   ]
  },
  {
   "cell_type": "code",
   "execution_count": 14,
   "id": "95122fb4",
   "metadata": {},
   "outputs": [
    {
     "name": "stderr",
     "output_type": "stream",
     "text": [
      "C:\\Users\\LAPTOP ACER\\AppData\\Local\\Temp\\ipykernel_22836\\2203189543.py:2: FutureWarning: The default of observed=False is deprecated and will be changed to True in a future version of pandas. Pass observed=False to retain current behavior or observed=True to adopt the future default and silence this warning.\n",
      "  industry_stats = cybersec_cleaned.groupby('Target Industry').agg({\n"
     ]
    },
    {
     "data": {
      "image/png": "[encoded data removed]",
      "text/plain": [
       "<Figure size 1400x700 with 1 Axes>"
      ]
     },
     "metadata": {},
     "output_type": "display_data"
    }
   ],
   "source": [
    "# Tính tổng các chỉ số theo ngành\n",
    "industry_stats = cybersec_cleaned.groupby('Target Industry').agg({\n",
    "    'Financial Loss (in Million $)': 'sum',\n",
    "    'Number of Affected Users': 'sum',\n",
    "    'Incident Resolution Time (in Hours)': 'mean',\n",
    "    'Attack Type': 'count'  # volume (số cuộc tấn công)\n",
    "}).reset_index()\n",
    "\n",
    "\n",
    "# Đổi tên cột cho dễ nhìn\n",
    "industry_stats.rename(columns={\n",
    "    'Attack Type': 'Attack Volume',\n",
    "    'Financial Loss (in Million $)': 'Financial Loss',\n",
    "    'Number of Affected Users': 'Affected Users',\n",
    "    'Incident Resolution Time (in Hours)': 'Avg Resolution Time'\n",
    "}, inplace=True)\n",
    "\n",
    "\n",
    "# Chuyển dữ liệu sang dạng \"long\" để vẽ grouped bar chart\n",
    "industry_melted = industry_stats.melt(id_vars='Target Industry',\n",
    "                                      value_vars=['Attack Volume', 'Financial Loss', 'Affected Users', 'Avg Resolution Time'],\n",
    "                                      var_name='Metric',\n",
    "                                      value_name='Value')\n",
    "\n",
    "\n",
    "# Vẽ biểu đồ cột nhóm\n",
    "plt.figure(figsize=(14, 7))\n",
    "sns.barplot(data=industry_melted, x='Target Industry', y='Value', hue='Metric')\n",
    "plt.title('Comparison of Industries Based on Cybersecurity Criteria', fontsize=15)\n",
    "plt.xlabel('Industry')\n",
    "plt.ylabel('Value')\n",
    "plt.xticks(rotation=45)\n",
    "plt.legend(title='Chỉ số')\n",
    "plt.tight_layout()\n",
    "plt.show()\n"
   ]
  }
 ],
 "metadata": {
  "kernelspec": {
   "display_name": "Python 3",
   "language": "python",
   "name": "python3"
  },
  "language_info": {
   "codemirror_mode": {
    "name": "ipython",
    "version": 3
   },
   "file_extension": ".py",
   "mimetype": "text/x-python",
   "name": "python",
   "nbconvert_exporter": "python",
   "pygments_lexer": "ipython3",
   "version": "3.13.1"
  }
 },
 "nbformat": 4,
 "nbformat_minor": 5
}
